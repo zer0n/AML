{
 "cells": [
  {
   "cell_type": "code",
   "execution_count": 1,
   "metadata": {},
   "outputs": [
    {
     "name": "stdout",
     "output_type": "stream",
     "text": [
      "Found the config file in: /home/common/notebooks/config.json\n"
     ]
    }
   ],
   "source": [
    "%run ../AML/Common.ipynb"
   ]
  },
  {
   "cell_type": "code",
   "execution_count": 132,
   "metadata": {
    "scrolled": false
   },
   "outputs": [],
   "source": [
    "env = half_cheetah\n",
    "\n",
    "args = {\n",
    "    '--env': env,\n",
    "    '--num_episodes': 1000,\n",
    "    '--eval_frequency': 1000,\n",
    "    '--eval_trials': 20,\n",
    "    '--log_dir': f'../log/{env}/hyper/{{}}'\n",
    "}"
   ]
  },
  {
   "cell_type": "markdown",
   "metadata": {},
   "source": [
    "## HyperDrive"
   ]
  },
  {
   "cell_type": "code",
   "execution_count": 65,
   "metadata": {},
   "outputs": [],
   "source": [
    "params = {\n",
    "    'bootstrap_size': choice(8, 16, 32, 64),\n",
    "    'plan_horizon': quniform(25, 50, 5),\n",
    "    'risk_preference': quniform(-2, 0.5, 0.25),\n",
    "    'batch_size': choice(10, 20, 40, 80),\n",
    "    'fr_num_updates_per_step': choice(4, 8, 16, 32),\n",
    "    'num_po_iterations': choice(4, 8, 16, 32)\n",
    "}\n",
    "\n",
    "run_sweep = train(name=env, cluster=p100_1_low, args=args, hyper_params=params, total_runs=100)"
   ]
  },
  {
   "cell_type": "code",
   "execution_count": 88,
   "metadata": {
    "scrolled": false
   },
   "outputs": [
    {
     "data": {
      "application/vnd.jupyter.widget-view+json": {
       "model_id": "6c747430adfd4713876afdeea0584715",
       "version_major": 2,
       "version_minor": 0
      },
      "text/plain": [
       "_HyperDriveWidget(widget_settings={'childWidgetDisplay': 'popup', 'send_telemetry': False, 'log_level': 'INFO'…"
      ]
     },
     "metadata": {},
     "output_type": "display_data"
    },
    {
     "data": {
      "application/vnd.jupyter.widget-view+json": {
       "model_id": "fd3bd98fca994761a1535dfe67e959f8",
       "version_major": 2,
       "version_minor": 0
      },
      "text/plain": [
       "_UserRunWidget(widget_settings={'childWidgetDisplay': 'popup', 'send_telemetry': False, 'log_level': 'INFO', '…"
      ]
     },
     "metadata": {},
     "output_type": "display_data"
    }
   ],
   "source": [
    "visualize(run_sweep)"
   ]
  },
  {
   "cell_type": "code",
   "execution_count": 110,
   "metadata": {},
   "outputs": [],
   "source": [
    "params = {\n",
    "    'bootstrap_size': quniform(10, 20, 5),\n",
    "    'plan_horizon': quniform(25, 40, 5),\n",
    "    'risk_preference': quniform(-2, 0, 0.25),\n",
    "    'batch_size': choice(20, 40, 80, 160),\n",
    "    'fr_num_updates_per_step': choice(2, 5, 10),\n",
    "    'po': choice('sgd', 'adam', 'rmsprop'),\n",
    "    'num_po_iterations': choice(4, 8, 16, 32)\n",
    "}\n",
    "\n",
    "run_sweep_2 = train(name=env, cluster=p100_1_low, args=args, hyper_params=params, total_runs=100)"
   ]
  },
  {
   "cell_type": "code",
   "execution_count": 131,
   "metadata": {},
   "outputs": [
    {
     "data": {
      "text/plain": [
       "array([ 1,  2,  4,  8, 16])"
      ]
     },
     "execution_count": 131,
     "metadata": {},
     "output_type": "execute_result"
    }
   ],
   "source": [
    "1 << np.arange(int(np.log2(30)) + 1)"
   ]
  },
  {
   "cell_type": "code",
   "execution_count": 111,
   "metadata": {
    "scrolled": false
   },
   "outputs": [
    {
     "data": {
      "application/vnd.jupyter.widget-view+json": {
       "model_id": "dcdc63e4ce2d40ae8ed49656ee5fc068",
       "version_major": 2,
       "version_minor": 0
      },
      "text/plain": [
       "_HyperDriveWidget(widget_settings={'childWidgetDisplay': 'popup', 'send_telemetry': False, 'log_level': 'INFO'…"
      ]
     },
     "metadata": {},
     "output_type": "display_data"
    },
    {
     "data": {
      "application/vnd.jupyter.widget-view+json": {
       "model_id": "1a02ef2c5870428c98fff1377d075b15",
       "version_major": 2,
       "version_minor": 0
      },
      "text/plain": [
       "_UserRunWidget(widget_settings={'childWidgetDisplay': 'popup', 'send_telemetry': False, 'log_level': 'INFO', '…"
      ]
     },
     "metadata": {},
     "output_type": "display_data"
    }
   ],
   "source": [
    "visualize(run_sweep_2)"
   ]
  },
  {
   "cell_type": "code",
   "execution_count": 105,
   "metadata": {},
   "outputs": [
    {
     "data": {
      "text/plain": [
       "{'code': 200,\n",
       " 'result': 'Cancellation requested for HalfCheetah-v2_1556103771633'}"
      ]
     },
     "execution_count": 105,
     "metadata": {},
     "output_type": "execute_result"
    }
   ],
   "source": [
    "run_sweep_2.cancel()"
   ]
  },
  {
   "cell_type": "markdown",
   "metadata": {},
   "source": [
    "## Generate Debug Info"
   ]
  },
  {
   "cell_type": "code",
   "execution_count": 133,
   "metadata": {},
   "outputs": [],
   "source": [
    "args_debug = {\n",
    "    '--env': env,\n",
    "    '--num_episodes': 100,\n",
    "    '--eval_frequency': 100,\n",
    "    '--eval_trials': 20,\n",
    "    '--log_dir': f'../log/{env}/ken/{{}}',\n",
    "    '--debug_info': 'all'\n",
    "}"
   ]
  },
  {
   "cell_type": "code",
   "execution_count": 134,
   "metadata": {},
   "outputs": [
    {
     "data": {
      "application/vnd.jupyter.widget-view+json": {
       "model_id": "b5190f232ca44635a67c2ca4227034c1",
       "version_major": 2,
       "version_minor": 0
      },
      "text/plain": [
       "_UserRunWidget(widget_settings={'childWidgetDisplay': 'popup', 'send_telemetry': False, 'log_level': 'INFO', '…"
      ]
     },
     "metadata": {},
     "output_type": "display_data"
    }
   ],
   "source": [
    "args_debug.update({\n",
    "    '--bootstrap_size': 10,\n",
    "    '--plan_horizon': 35,\n",
    "    '--risk_preference': -0.5,\n",
    "    '--batch_size': 40,\n",
    "    '--fr_num_updates_per_step': 10,\n",
    "    '--po': 'rmsprop',\n",
    "    '--num_po_iterations': 4\n",
    "})\n",
    "\n",
    "run_debug_1 = train(env, p100_1, args_debug)\n",
    "visualize(run_debug_1)"
   ]
  },
  {
   "cell_type": "code",
   "execution_count": null,
   "metadata": {},
   "outputs": [],
   "source": []
  }
 ],
 "metadata": {
  "kernelspec": {
   "display_name": "Python 3",
   "language": "python",
   "name": "python3"
  },
  "language_info": {
   "codemirror_mode": {
    "name": "ipython",
    "version": 3
   },
   "file_extension": ".py",
   "mimetype": "text/x-python",
   "name": "python",
   "nbconvert_exporter": "python",
   "pygments_lexer": "ipython3",
   "version": "3.7.1"
  }
 },
 "nbformat": 4,
 "nbformat_minor": 2
}

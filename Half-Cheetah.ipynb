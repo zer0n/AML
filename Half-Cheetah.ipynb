{
 "cells": [
  {
   "cell_type": "markdown",
   "metadata": {},
   "source": [
    "**Current best results**\n",
    "- [`HalfCheetah-v2/longvt/debug_policy/linear_weighted_bound_0_B_32_piB256_F256_c=-2.0`](http://sonomav.southcentralus.cloudapp.azure.com:6006/#scalars&regexInput=HalfCheetah-v2%2Flongvt%2Fdebug_policy%2Flinear_weighted_bound_0_B_32_piB256_F256_c%3D-2.0)\n",
    "- [`HalfCheetah-v2/longvt/policy/weighted_statistic_linear_weighted_bound_0_B_32_piB512_F512_c=-2.0`](http://sonomav.southcentralus.cloudapp.azure.com:6006/#scalars&regexInput=HalfCheetah-v2%2Flongvt%2Fpolicy%2Fweighted_statistic_linear_weighted_bound_0_B_32_piB512_F512_c%3D-2.0)"
   ]
  },
  {
   "cell_type": "code",
   "execution_count": 1,
   "metadata": {},
   "outputs": [
    {
     "name": "stdout",
     "output_type": "stream",
     "text": [
      "Found the config file in: /home/common/notebooks/config.json\n"
     ]
    }
   ],
   "source": [
    "%run ../AML/Common.ipynb"
   ]
  },
  {
   "cell_type": "code",
   "execution_count": 132,
   "metadata": {
    "scrolled": false
   },
   "outputs": [],
   "source": [
    "env = half_cheetah\n",
    "\n",
    "args = {\n",
    "    '--env': env,\n",
    "    '--num_episodes': 1000,\n",
    "    '--eval_frequency': 1000,\n",
    "    '--eval_trials': 20,\n",
    "    '--log_dir': f'../log/{env}/hyper/{{}}'\n",
    "}"
   ]
  },
  {
   "cell_type": "markdown",
   "metadata": {},
   "source": [
    "## HyperDrive"
   ]
  },
  {
   "cell_type": "code",
   "execution_count": 65,
   "metadata": {},
   "outputs": [],
   "source": [
    "params = {\n",
    "    'bootstrap_size': choice(8, 16, 32, 64),\n",
    "    'plan_horizon': quniform(25, 50, 5),\n",
    "    'risk_preference': quniform(-2, 0.5, 0.25),\n",
    "    'batch_size': choice(10, 20, 40, 80),\n",
    "    'fr_num_updates_per_step': choice(4, 8, 16, 32),\n",
    "    'num_po_iterations': choice(4, 8, 16, 32)\n",
    "}\n",
    "\n",
    "run_sweep = train(name=env, cluster=p100_1_low, args=args, hyper_params=params, total_runs=100)"
   ]
  },
  {
   "cell_type": "code",
   "execution_count": 155,
   "metadata": {
    "scrolled": false
   },
   "outputs": [
    {
     "data": {
      "application/vnd.jupyter.widget-view+json": {
       "model_id": "e52a5a67159945b2886355ed70ac2301",
       "version_major": 2,
       "version_minor": 0
      },
      "text/plain": [
       "_HyperDriveWidget(widget_settings={'childWidgetDisplay': 'popup', 'send_telemetry': False, 'log_level': 'INFO'…"
      ]
     },
     "metadata": {},
     "output_type": "display_data"
    }
   ],
   "source": [
    "visualize(run_sweep)"
   ]
  },
  {
   "cell_type": "code",
   "execution_count": 153,
   "metadata": {},
   "outputs": [
    {
     "name": "stdout",
     "output_type": "stream",
     "text": [
      "total 12K\r\n",
      "drwxrwxr-x 3 common common 4.0K Apr 24 16:50 .\r\n",
      "drwxrwxr-x 7 common common 4.0K Apr 24 12:04 ..\r\n",
      "lrwxrwxrwx 1 common common   25 Apr 23 22:29 Half-Cheetah.ipynb -> ../AML/Half-Cheetah.ipynb\r\n",
      "drwxrwxr-x 2 common common 4.0K Apr 24 16:48 .ipynb_checkpoints\r\n",
      "lrwxrwxrwx 1 common common   19 Apr 21 18:11 MBRL -> /home/zer0ne/src/RL\r\n",
      "lrwxrwxrwx 1 common common   21 Apr 23 22:29 Pendulum.ipynb -> ../AML/Pendulum.ipynb\r\n"
     ]
    }
   ],
   "source": [
    "!ls -lha"
   ]
  },
  {
   "cell_type": "code",
   "execution_count": 154,
   "metadata": {},
   "outputs": [],
   "source": [
    "train??"
   ]
  },
  {
   "cell_type": "code",
   "execution_count": 143,
   "metadata": {},
   "outputs": [],
   "source": [
    "params = {\n",
    "    'bootstrap_size': quniform(10, 20, 5),\n",
    "    'plan_horizon': quniform(25, 40, 5),\n",
    "    'risk_preference': quniform(-2, 0, 0.25),\n",
    "    'batch_size': choice(20, 40, 80, 160),\n",
    "    'fr_num_updates_per_step': choice(2, 5, 10),\n",
    "    'po': choice('sgd', 'adam', 'rmsprop'),\n",
    "    'num_po_iterations': choice(4, 8, 16, 32)\n",
    "}\n",
    "\n",
    "run_sweep_2 = train(name=env, cluster=p100_1_low, args=args, hyper_params=params, total_runs=100)"
   ]
  },
  {
   "cell_type": "code",
   "execution_count": 146,
   "metadata": {
    "scrolled": false
   },
   "outputs": [
    {
     "data": {
      "application/vnd.jupyter.widget-view+json": {
       "model_id": "c8f1497caa61401baa5a6fbed93981fa",
       "version_major": 2,
       "version_minor": 0
      },
      "text/plain": [
       "_HyperDriveWidget(widget_settings={'childWidgetDisplay': 'popup', 'send_telemetry': False, 'log_level': 'INFO'…"
      ]
     },
     "metadata": {},
     "output_type": "display_data"
    },
    {
     "data": {
      "application/vnd.jupyter.widget-view+json": {
       "model_id": "",
       "version_major": 2,
       "version_minor": 0
      },
      "text/plain": [
       "_UserRunWidget(widget_settings={'childWidgetDisplay': 'popup', 'send_telemetry': False, 'log_level': 'INFO', '…"
      ]
     },
     "metadata": {},
     "output_type": "display_data"
    },
    {
     "data": {
      "application/vnd.jupyter.widget-view+json": {
       "model_id": "c0320c6f851c4e98a17fd30abe7689bf",
       "version_major": 2,
       "version_minor": 0
      },
      "text/plain": [
       "_UserRunWidget(widget_settings={'childWidgetDisplay': 'popup', 'send_telemetry': False, 'log_level': 'INFO', '…"
      ]
     },
     "metadata": {},
     "output_type": "display_data"
    }
   ],
   "source": [
    "visualize(run_sweep_2)"
   ]
  },
  {
   "cell_type": "markdown",
   "metadata": {},
   "source": [
    "## Generate Debug Info"
   ]
  },
  {
   "cell_type": "code",
   "execution_count": 133,
   "metadata": {},
   "outputs": [],
   "source": [
    "args_debug = {\n",
    "    '--env': env,\n",
    "    '--num_episodes': 100,\n",
    "    '--eval_frequency': 100,\n",
    "    '--eval_trials': 20,\n",
    "    '--log_dir': f'../log/{env}/ken/{{}}',\n",
    "    '--debug_info': 'all'\n",
    "}"
   ]
  },
  {
   "cell_type": "code",
   "execution_count": 134,
   "metadata": {},
   "outputs": [
    {
     "data": {
      "application/vnd.jupyter.widget-view+json": {
       "model_id": "b5190f232ca44635a67c2ca4227034c1",
       "version_major": 2,
       "version_minor": 0
      },
      "text/plain": [
       "_UserRunWidget(widget_settings={'childWidgetDisplay': 'popup', 'send_telemetry': False, 'log_level': 'INFO', '…"
      ]
     },
     "metadata": {},
     "output_type": "display_data"
    }
   ],
   "source": [
    "args_debug.update({\n",
    "    '--bootstrap_size': 10,\n",
    "    '--plan_horizon': 35,\n",
    "    '--risk_preference': -0.5,\n",
    "    '--batch_size': 40,\n",
    "    '--fr_num_updates_per_step': 10,\n",
    "    '--po': 'rmsprop',\n",
    "    '--num_po_iterations': 4\n",
    "})\n",
    "\n",
    "run_debug_1 = train(env, p100_1, args_debug)"
   ]
  },
  {
   "cell_type": "code",
   "execution_count": 147,
   "metadata": {},
   "outputs": [
    {
     "data": {
      "application/vnd.jupyter.widget-view+json": {
       "model_id": "28e65ee13b3a4f21b9b85b26d06e93c0",
       "version_major": 2,
       "version_minor": 0
      },
      "text/plain": [
       "_UserRunWidget(widget_settings={'childWidgetDisplay': 'popup', 'send_telemetry': False, 'log_level': 'INFO', '…"
      ]
     },
     "metadata": {},
     "output_type": "display_data"
    }
   ],
   "source": [
    "visualize(run_debug_1)"
   ]
  },
  {
   "cell_type": "code",
   "execution_count": null,
   "metadata": {},
   "outputs": [],
   "source": []
  }
 ],
 "metadata": {
  "kernelspec": {
   "display_name": "Python 3",
   "language": "python",
   "name": "python3"
  },
  "language_info": {
   "codemirror_mode": {
    "name": "ipython",
    "version": 3
   },
   "file_extension": ".py",
   "mimetype": "text/x-python",
   "name": "python",
   "nbconvert_exporter": "python",
   "pygments_lexer": "ipython3",
   "version": "3.7.1"
  }
 },
 "nbformat": 4,
 "nbformat_minor": 2
}

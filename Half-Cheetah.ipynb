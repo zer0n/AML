{
 "cells": [
  {
   "cell_type": "code",
   "execution_count": 1,
   "metadata": {},
   "outputs": [
    {
     "name": "stdout",
     "output_type": "stream",
     "text": [
      "Found the config file in: /home/common/notebooks/config.json\n"
     ]
    }
   ],
   "source": [
    "%run ../AML/Common.ipynb"
   ]
  },
  {
   "cell_type": "code",
   "execution_count": 33,
   "metadata": {},
   "outputs": [],
   "source": [
    "env = half_cheetah\n",
    "\n",
    "args = {\n",
    "    'env': env,\n",
    "    'num_episodes': 1000,\n",
    "    'evaluation_frequency': 500,\n",
    "    'evaluation_trials': 20\n",
    "}\n",
    "process_arguments(args, user='ken')\n",
    "\n",
    "params = {\n",
    "    'bootstrap_size': choice(8, 16, 32, 64),\n",
    "    'plan_horizon': quniform(30, 50, 5),\n",
    "    'risk_preference': uniform(-2, 1),\n",
    "    'batch_size': choice(64, 128, 256, 512),\n",
    "    'fr_num_updates_per_step': choice(4, 8, 16, 32),\n",
    "    'num_po_iterations': choice(4, 8, 16, 32)\n",
    "}\n",
    "\n",
    "run_sweep = train(name=env, cluster=p100_1, args=args, hyper_params=params, total_runs=100)"
   ]
  },
  {
   "cell_type": "code",
   "execution_count": 35,
   "metadata": {
    "scrolled": false
   },
   "outputs": [
    {
     "data": {
      "application/vnd.jupyter.widget-view+json": {
       "model_id": "432ddda6fe794025a74c6257ef3aa322",
       "version_major": 2,
       "version_minor": 0
      },
      "text/plain": [
       "_HyperDriveWidget(widget_settings={'childWidgetDisplay': 'popup', 'send_telemetry': False, 'log_level': 'INFO'…"
      ]
     },
     "metadata": {},
     "output_type": "display_data"
    }
   ],
   "source": [
    "RunDetails(run_sweep).show()"
   ]
  },
  {
   "cell_type": "code",
   "execution_count": 30,
   "metadata": {},
   "outputs": [],
   "source": [
    "args = {\n",
    "    'env': env,\n",
    "    'num_episodes': 500,\n",
    "    'evaluation_frequency': 100\n",
    "}\n",
    "process_arguments(args, user='ken')\n",
    "\n",
    "run_single = train(name=env, cluster=p100_1, args=args)"
   ]
  },
  {
   "cell_type": "code",
   "execution_count": 31,
   "metadata": {},
   "outputs": [
    {
     "data": {
      "application/vnd.jupyter.widget-view+json": {
       "model_id": "a38928cb84344894942c821b6a0c6391",
       "version_major": 2,
       "version_minor": 0
      },
      "text/plain": [
       "_UserRunWidget(widget_settings={'childWidgetDisplay': 'popup', 'send_telemetry': False, 'log_level': 'INFO', '…"
      ]
     },
     "metadata": {},
     "output_type": "display_data"
    }
   ],
   "source": [
    "RunDetails(run_single).show()"
   ]
  },
  {
   "cell_type": "code",
   "execution_count": 32,
   "metadata": {},
   "outputs": [
    {
     "data": {
      "text/plain": [
       "{'code': 200,\n",
       " 'result': 'Cancellation requested for HalfCheetah-v2_1556015888328'}"
      ]
     },
     "execution_count": 32,
     "metadata": {},
     "output_type": "execute_result"
    }
   ],
   "source": [
    "run_sweep.cancel()"
   ]
  }
 ],
 "metadata": {
  "kernelspec": {
   "display_name": "Python 3",
   "language": "python",
   "name": "python3"
  },
  "language_info": {
   "codemirror_mode": {
    "name": "ipython",
    "version": 3
   },
   "file_extension": ".py",
   "mimetype": "text/x-python",
   "name": "python",
   "nbconvert_exporter": "python",
   "pygments_lexer": "ipython3",
   "version": "3.7.1"
  }
 },
 "nbformat": 4,
 "nbformat_minor": 2
}

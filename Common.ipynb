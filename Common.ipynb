{
 "cells": [
  {
   "cell_type": "markdown",
   "metadata": {},
   "source": [
    "### Azure ML Resources\n",
    "- [Tune Hyperparameters](https://docs.microsoft.com/en-us/azure/machine-learning/service/how-to-tune-hyperparameters)"
   ]
  },
  {
   "cell_type": "code",
   "execution_count": 6,
   "metadata": {},
   "outputs": [
    {
     "name": "stdout",
     "output_type": "stream",
     "text": [
      "Found the config file in: /home/common/notebooks/AML/config.json\n"
     ]
    }
   ],
   "source": [
    "import sys\n",
    "from distutils import dir_util\n",
    "\n",
    "import azureml.core\n",
    "from azureml.core import Experiment\n",
    "from azureml.core.workspace import Workspace\n",
    "from azureml.core.compute import ComputeTarget\n",
    "from azureml.train.estimator import Estimator\n",
    "from azureml.train.hyperdrive import *\n",
    "from azureml.widgets import RunDetails\n",
    "\n",
    "ws = Workspace.from_config('/home/common/notebooks/AML/config.json')\n",
    "sys.path.append('/home/zer0ne/src/RL')"
   ]
  },
  {
   "cell_type": "code",
   "execution_count": 2,
   "metadata": {},
   "outputs": [],
   "source": [
    "p100_1_low = ComputeTarget(workspace=ws, name='p100-1-low')  # each node has 1 P100\n",
    "p100_1_low2 = ComputeTarget(workspace=ws, name='p100-1-low2')  # each node has 1 P100\n",
    "p100_1 = ComputeTarget(workspace=ws, name='p100-1')  # each node has 1 P100; don't use this\n",
    "p100_2 = ComputeTarget(workspace=ws, name='p100-2')  # each node has 2 P100s\n",
    "k80_low = ComputeTarget(workspace=ws, name='k80-low')  # each node has 1 K80\n",
    "\n",
    "metric = \"Average Return\"\n",
    "\n",
    "def train(name, cluster, args, hyper_params=None,\n",
    "          source_directory='./MBRL', \n",
    "          entry_script='train.py', \n",
    "          docker_image='zer0n/rl',\n",
    "          total_runs=100):\n",
    "    trainer = Estimator(source_directory=source_directory,\n",
    "                        script_params=args, \n",
    "                        compute_target=cluster,\n",
    "                        entry_script=entry_script,\n",
    "                        custom_docker_image=docker_image, \n",
    "                        use_gpu=True, \n",
    "                        user_managed=True)\n",
    "    experiment = Experiment(ws, name=name)\n",
    "    \n",
    "    if hyper_params:\n",
    "        sweeper = HyperDriveRunConfig(estimator=trainer,\n",
    "                                      hyperparameter_sampling=RandomParameterSampling(hyper_params), \n",
    "                                      primary_metric_name=metric, \n",
    "                                      primary_metric_goal=PrimaryMetricGoal.MAXIMIZE,\n",
    "                                      policy=MedianStoppingPolicy(evaluation_interval=1, delay_evaluation=5),\n",
    "                                      max_total_runs=total_runs)\n",
    "        return experiment.submit(sweeper)\n",
    "    else:\n",
    "        return experiment.submit(trainer)\n",
    "\n",
    "def visualize(run):\n",
    "    RunDetails(run).show()\n",
    "    \n",
    "def get_run(run_id: str):\n",
    "    experiment = ws.experiments[run_id.split('_')[0]]\n",
    "    return azureml.core.get_run(experiment, run_id)    \n",
    "\n",
    "def copy_log_dir(run):\n",
    "    from arguments import Arguments, parse_args\n",
    "    args = Arguments()\n",
    "    cmd_args = run.get_details()['runDefinition']['arguments']\n",
    "    parse_args(args, cmd_args)\n",
    "    log_dir = args.log_dir.replace('../', '/mnt/azureml/azureml/')\n",
    "    dir_util.copy_tree(log_dir, f'/home/share/log/{cmd_args[1]}/')"
   ]
  },
  {
   "cell_type": "code",
   "execution_count": 9,
   "metadata": {},
   "outputs": [],
   "source": [
    "pendulum = 'Pendulum-v0'\n",
    "half_cheetah = 'HalfCheetah-v2'\n",
    "humanoid = 'Humanoid-v0'"
   ]
  }
 ],
 "metadata": {
  "kernelspec": {
   "display_name": "Python 3",
   "language": "python",
   "name": "python3"
  },
  "language_info": {
   "codemirror_mode": {
    "name": "ipython",
    "version": 3
   },
   "file_extension": ".py",
   "mimetype": "text/x-python",
   "name": "python",
   "nbconvert_exporter": "python",
   "pygments_lexer": "ipython3",
   "version": "3.7.1"
  }
 },
 "nbformat": 4,
 "nbformat_minor": 2
}

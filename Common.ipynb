{
 "cells": [
  {
   "cell_type": "markdown",
   "metadata": {},
   "source": [
    "### Azure ML Resources\n",
    "- [Tune Hyperparameters](https://docs.microsoft.com/en-us/azure/machine-learning/service/how-to-tune-hyperparameters)"
   ]
  },
  {
   "cell_type": "code",
   "execution_count": 1,
   "metadata": {},
   "outputs": [
    {
     "name": "stdout",
     "output_type": "stream",
     "text": [
      "Found the config file in: /home/common/notebooks/AML/config.json\n"
     ]
    }
   ],
   "source": [
    "import azureml.core\n",
    "from azureml.core import Experiment\n",
    "from azureml.core.workspace import Workspace\n",
    "from azureml.core.compute import ComputeTarget\n",
    "from azureml.train.estimator import Estimator\n",
    "from azureml.train.hyperdrive import *\n",
    "from azureml.widgets import RunDetails\n",
    "\n",
    "ws = Workspace.from_config()"
   ]
  },
  {
   "cell_type": "code",
   "execution_count": 2,
   "metadata": {},
   "outputs": [],
   "source": [
    "p100_1 = ComputeTarget(workspace=ws, name='p100-1')  # each node has 1 P100\n",
    "p100_2 = ComputeTarget(workspace=ws, name='p100-2')  # each node has 2 P100s\n",
    "p100_1_low = ComputeTarget(workspace=ws, name='p100-1-low')  # each node has 1 P100, low-priority\n",
    "k80 = ComputeTarget(workspace=ws, name='k80')  # each node has 1 K80\n",
    "\n",
    "def train(name, cluster, args, hyper_params=None,\n",
    "          source_directory='./MBRL', \n",
    "          entry_script='train.py', \n",
    "          docker_image='zer0n/rl',\n",
    "          total_runs=100):\n",
    "    trainer = Estimator(source_directory=source_directory,\n",
    "                        script_params=params, \n",
    "                        compute_target=cluster,\n",
    "                        entry_script=entry_script,\n",
    "                        custom_docker_image=docker_image, \n",
    "                        use_gpu=True, \n",
    "                        user_managed=True)\n",
    "    experiment = Experiment(ws, name=name)\n",
    "    \n",
    "    if hyper_params:\n",
    "        sweeper = HyperDriveRunConfig(estimator=trainer,\n",
    "                                      hyperparameter_sampling=RandomParameterSampling(hyper_params), \n",
    "                                      primary_metric_name=\"Average Return\", \n",
    "                                      primary_metric_goal=PrimaryMetricGoal.MAXIMIZE,\n",
    "                                      policy=MedianStoppingPolicy(evaluation_interval=1, delay_evaluation=5),\n",
    "                                      max_total_runs=total_runs)\n",
    "        return experiment.submit(sweeper)\n",
    "    else:\n",
    "        return experiment.submit(trainer)\n",
    "\n",
    "def process_params(params: dict, user: str, throwaway=False):\n",
    "    if throwaway:\n",
    "        params['log_dir'] = f'../log/{env}/{user}/throwaway'\n",
    "    else:\n",
    "        env = params['env']\n",
    "        excluded = ['env', 'evaluation_frequency']\n",
    "        params_str = ','.join(f\"{key}={val}\" for (key,val) in params.items() if not key in excluded)\n",
    "        params['log_dir'] = f'../log/{env}/{user}/{params_str}'\n",
    "    \n",
    "#     for key in list(params):\n",
    "#         params[f'--{key}'] = params.pop(key)  # add -- to the key name"
   ]
  },
  {
   "cell_type": "code",
   "execution_count": 9,
   "metadata": {},
   "outputs": [],
   "source": [
    "pendulum = 'Pendulum-v0'\n",
    "half_cheetah = 'HalfCheetah-v2'\n",
    "humanoid = 'Humanoid-v0'"
   ]
  }
 ],
 "metadata": {
  "kernelspec": {
   "display_name": "Python 3",
   "language": "python",
   "name": "python3"
  },
  "language_info": {
   "codemirror_mode": {
    "name": "ipython",
    "version": 3
   },
   "file_extension": ".py",
   "mimetype": "text/x-python",
   "name": "python",
   "nbconvert_exporter": "python",
   "pygments_lexer": "ipython3",
   "version": "3.7.1"
  }
 },
 "nbformat": 4,
 "nbformat_minor": 2
}
